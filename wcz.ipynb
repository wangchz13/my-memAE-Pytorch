{
 "cells": [
  {
   "cell_type": "code",
   "execution_count": 2,
   "metadata": {},
   "outputs": [],
   "source": [
    "r = lambda x, i: [x for _ in range(i)]\n",
    "X_train = r(r(888, 2),1000)"
   ]
  },
  {
   "cell_type": "code",
   "execution_count": 5,
   "metadata": {},
   "outputs": [
    {
     "name": "stdout",
     "output_type": "stream",
     "text": [
      "Sum of cosine similarities: 2.932234525680542\n"
     ]
    }
   ],
   "source": [
    "import torch\n",
    "import torch.nn.functional as F\n",
    "\n",
    "def calculate_cosine_similarity_sum(vectors):\n",
    "    n = len(vectors)\n",
    "    m = vectors[0].size(0)  # 假设所有向量具有相同的维度\n",
    "    \n",
    "    # 确保输入的维度是一致的\n",
    "    assert all(vec.size(0) == m for vec in vectors), \"All vectors must have the same dimensionality.\"\n",
    "    \n",
    "    # 初始化余弦相似度和为零\n",
    "    cosine_similarity_sum = torch.tensor(0.0)\n",
    "    \n",
    "    # 计算每对向量之间的余弦相似度并求和\n",
    "    for i in range(n):\n",
    "        for j in range(i+1, n):  # 避免重复计算对称位置\n",
    "            cosine_similarity = F.cosine_similarity(vectors[i], vectors[j], dim=0)\n",
    "            cosine_similarity_sum += cosine_similarity\n",
    "    \n",
    "    return cosine_similarity_sum  # 转为标量\n",
    "\n",
    "# 示例：一组3维向量\n",
    "vectors = [\n",
    "    torch.Tensor([1, 2, 3]),\n",
    "    torch.Tensor([4, 5, 6]),\n",
    "    torch.Tensor([7, 8, 9]),\n",
    "]\n",
    "\n",
    "# 计算余弦相似度和\n",
    "result = calculate_cosine_similarity_sum(vectors)\n",
    "\n",
    "print(f\"Sum of cosine similarities: {result}\")\n"
   ]
  }
 ],
 "metadata": {
  "kernelspec": {
   "display_name": "base",
   "language": "python",
   "name": "python3"
  },
  "language_info": {
   "codemirror_mode": {
    "name": "ipython",
    "version": 3
   },
   "file_extension": ".py",
   "mimetype": "text/x-python",
   "name": "python",
   "nbconvert_exporter": "python",
   "pygments_lexer": "ipython3",
   "version": "3.10.9"
  }
 },
 "nbformat": 4,
 "nbformat_minor": 2
}
